{
  "metadata": {
    "kernelspec": {
      "language": "python",
      "display_name": "Python 3",
      "name": "python3"
    },
    "language_info": {
      "pygments_lexer": "ipython3",
      "nbconvert_exporter": "python",
      "version": "3.6.4",
      "file_extension": ".py",
      "codemirror_mode": {
        "name": "ipython",
        "version": 3
      },
      "name": "python",
      "mimetype": "text/x-python"
    },
    "colab": {
      "provenance": []
    }
  },
  "nbformat_minor": 0,
  "nbformat": 4,
  "cells": [
    {
      "cell_type": "code",
      "source": [
        "import numpy as np\n",
        "import pandas as pd\n",
        "import matplotlib.pyplot as pyplot\n",
        "import tensorflow as tf\n",
        "import os\n",
        "import cv2"
      ],
      "metadata": {
        "id": "0ckNI_9klfgl"
      },
      "execution_count": 1,
      "outputs": []
    },
    {
      "cell_type": "code",
      "source": [
        "from google.colab import drive\n",
        "drive.mount(\"/content/drive\")"
      ],
      "metadata": {
        "id": "faOf0iNslia6"
      },
      "execution_count": null,
      "outputs": []
    },
    {
      "cell_type": "code",
      "source": [
        "!ls \"/content/drive/MyDrive/thermal images UL\""
      ],
      "metadata": {
        "colab": {
          "base_uri": "https://localhost:8080/"
        },
        "id": "dM1Ag80Qme4F",
        "outputId": "0c62a053-4713-4b96-c1a1-719c3cdbcec0"
      },
      "execution_count": null,
      "outputs": [
        {
          "output_type": "stream",
          "name": "stdout",
          "text": [
            " Blast\t healthy  'leaf folder'  'Read Me - Oryza sativa - TImages.docx'\n",
            " BLB\t hispa\t  'leaf spot'\n"
          ]
        }
      ]
    }, 
    {
      "cell_type": "code",
      "source": [
        "for dirname, _, filenames in os.walk(\"/content/drive/MyDrive/thermal images UL\"):\n",
        "    for filename in filenames:\n",
        "        file_path = os.path.join(dirname, filename)\n",
        "        print(file_path)\n",
        "        if file_path == \"/content/drive/MyDrive/thermal images UL/Read Me - Oryza sativa - TImages.docx\":\n",
        "            continue\n",
        "        #print(file_path.split('/')[5], file_path.split('/')[6])\n",
        "        #categories.add(file_path.split('/')[5])\n",
        "        #print(os.path.join(dirname, filename).split('/')[5])"
      ],
      "metadata": {
        "colab": {
          "base_uri": "https://localhost:8080/"
        },
        "id": "4WP9dqffmxZ0",
        "outputId": "ad982db1-76f6-4354-9d8c-51629195c096"
      },
      "execution_count": null,
      "outputs": [
        {
          "output_type": "stream",
          "name": "stdout",
          "text": [ 
            "/content/drive/MyDrive/thermal images UL/Read Me - Oryza sativa - TImages.docx\n",
            "/content/drive/MyDrive/thermal images UL/healthy/thermalimage6t.jpg\n",
            "/content/drive/MyDrive/thermal images UL/healthy/thermalimage8oo.jpg\n",
            "/content/drive/MyDrive/thermal images UL/healthy/thermalimage8aa.jpg\n",
            "/content/drive/MyDrive/thermal images UL/healthy/thermalimage6i.jpg\n",
            "/content/drive/MyDrive/thermal images UL/healthy/thermalimage8t.jpg\n",
            "/content/drive/MyDrive/thermal images UL/healthy/thermalimage6d.jpg\n",
            "/content/drive/MyDrive/thermal images UL/healthy/thermalimage8ii.jpg\n",
            "/content/drive/MyDrive/thermal images UL/healthy/thermalimage8w.jpg\n",
            "/content/drive/MyDrive/thermal images UL/healthy/thermalimage3b.jpg\n",
            "/content/drive/MyDrive/thermal images UL/healthy/thermalimage6q.jpg\n",
            "/content/drive/MyDrive/thermal images UL/healthy/thermalimage6h.jpg\n",
            "/content/drive/MyDrive/thermal images UL/healthy/thermalimage6f.jpg\n",
            "/content/drive/MyDrive/thermal images UL/healthy/thermalimage8x.jpg\n",
            "/content/drive/MyDrive/thermal images UL/healthy/thermalimage7b.jpg\n",
            "/content/drive/MyDrive/thermal images UL/healthy/thermalimage8hh.jpg\n",
            "/content/drive/MyDrive/thermal images UL/healthy/thermalimage8z.jpg\n",
            "/content/drive/MyDrive/thermal images UL/healthy/thermalimage8ww.jpg\n",
            "/content/drive/MyDrive/thermal images UL/healthy/thermalimage5e.jpg\n",
            "/content/drive/MyDrive/thermal images UL/healthy/thermalimage3d.jpg\n",
            "/content/drive/MyDrive/thermal images UL/healthy/thermalimage8qq.jpg\n",
            "/content/drive/MyDrive/thermal images UL/healthy/thermalimage5c.jpg\n",
            "/content/drive/MyDrive/thermal images UL/healthy/thermalimage8gg.jpg\n",
            "/content/drive/MyDrive/thermal images UL/healthy/thermalimage4d.jpg\n",
            "/content/drive/MyDrive/thermal images UL/healthy/thermalimage8f.jpg\n",
            "/content/drive/MyDrive/thermal images UL/healthy/thermalimage8cc.jpg\n",
            "/content/drive/MyDrive/thermal images UL/healthy/thermalimage8y.jpg\n",
            "/content/drive/MyDrive/thermal images UL/healthy/thermalimage8d.jpg\n",
            "/content/drive/MyDrive/thermal images UL/healthy/thermalimage3c.jpg\n",
            "/content/drive/MyDrive/thermal images UL/healthy/thermalimage8ss.jpg\n",
            "/content/drive/MyDrive/thermal images UL/healthy/thermalimage8vv.jpg\n",
            "/content/drive/MyDrive/thermal images UL/healthy/thermalimage8jj.jpg\n",
            "/content/drive/MyDrive/thermal images UL/healthy/thermalimage6g.jpg\n",
            "/content/drive/MyDrive/thermal images UL/healthy/thermalimage4a.jpg\n",
            "/content/drive/MyDrive/thermal images UL/healthy/thermalimage8j.jpg\n",
            "/content/drive/MyDrive/thermal images UL/healthy/thermalimage6j.jpg\n",
            "/content/drive/MyDrive/thermal images UL/healthy/thermalimage8tt.jpg\n",
            "/content/drive/MyDrive/thermal images UL/healthy/thermalimage1a.jpg\n",
            "/content/drive/MyDrive/thermal images UL/healthy/thermalimage8o.jpg\n",
            "/content/drive/MyDrive/thermal images UL/healthy/thermalimage8s.jpg\n",
            "/content/drive/MyDrive/thermal images UL/healthy/thermalimage7c.jpg\n",
            "/content/drive/MyDrive/thermal images UL/healthy/thermalimage6m.jpg\n",
            "/content/drive/MyDrive/thermal images UL/healthy/thermalimage8q.jpg\n",
            "/content/drive/MyDrive/thermal images UL/healthy/thermalimage8k.jpg\n",
            "/content/drive/MyDrive/thermal images UL/healthy/thermalimage4b.jpg\n",
            "/content/drive/MyDrive/thermal images UL/healthy/thermalimage8r.jpg\n",
            "/content/drive/MyDrive/thermal images UL/healthy/thermalimage5b.jpg\n",
            "/content/drive/MyDrive/thermal images UL/healthy/thermalimage6r.jpg\n",
            "/content/drive/MyDrive/thermal images UL/healthy/thermalimage8l.jpg\n",
            "/content/drive/MyDrive/thermal images UL/healthy/thermalimage8uu.jpg\n",
            "/content/drive/MyDrive/thermal images UL/healthy/thermalimage8c.jpg\n",
            "/content/drive/MyDrive/thermal images UL/healthy/thermalimage8i.jpg\n",
            "/content/drive/MyDrive/thermal images UL/healthy/thermalimage6n.jpg\n",
            "/content/drive/MyDrive/thermal images UL/healthy/thermalimage6p.jpg\n",
            "/content/drive/MyDrive/thermal images UL/healthy/thermalimage8m.jpg\n",
            "/content/drive/MyDrive/thermal images UL/healthy/thermalimage5f.jpg\n",
            "/content/drive/MyDrive/thermal images UL/healthy/thermalimage6k.jpg\n",
            "/content/drive/MyDrive/thermal images UL/healthy/thermalimage8mm.jpg\n",
            "/content/drive/MyDrive/thermal images UL/healthy/thermalimage.jpg\n",
            "/content/drive/MyDrive/thermal images UL/healthy/thermalimage6o.jpg\n",
            "/content/drive/MyDrive/thermal images UL/healthy/thermalimage8v.jpg\n",
            "/content/drive/MyDrive/thermal images UL/healthy/thermalimage5d.jpg\n",
            "/content/drive/MyDrive/thermal images UL/healthy/thermalimage6l.jpg\n",
            "/content/drive/MyDrive/thermal images UL/healthy/thermalimage8bb.jpg\n",
            "/content/drive/MyDrive/thermal images UL/healthy/thermalimage8xx.jpg\n",
            "/content/drive/MyDrive/thermal images UL/healthy/thermalimage8dd.jpg\n",
            "/content/drive/MyDrive/thermal images UL/healthy/thermalimage8n.jpg\n",
            "/content/drive/MyDrive/thermal images UL/healthy/thermalimage8zz.jpg\n",
            "/content/drive/MyDrive/thermal images UL/healthy/thermalimage6a.jpg\n",
            "/content/drive/MyDrive/thermal images UL/healthy/thermalimage6e.jpg\n",
            "/content/drive/MyDrive/thermal images UL/healthy/thermalimage8kk.jpg\n",
            "/content/drive/MyDrive/thermal images UL/healthy/thermalimage8h.jpg\n",
            "/content/drive/MyDrive/thermal images UL/healthy/thermalimage4e.jpg\n",
            "/content/drive/MyDrive/thermal images UL/healthy/thermalimage8g.jpg\n",
            "/content/drive/MyDrive/thermal images UL/healthy/thermalimage2a.jpg\n",
            "/content/drive/MyDrive/thermal images UL/healthy/thermalimage8ll.jpg\n",
            "/content/drive/MyDrive/thermal images UL/healthy/thermalimage6c.jpg\n",
            "/content/drive/MyDrive/thermal images UL/healthy/thermalimage8a.jpg\n",
            "/content/drive/MyDrive/thermal images UL/healthy/thermalimage8b.jpg\n",
            "/content/drive/MyDrive/thermal images UL/healthy/thermalimage6u.jpg\n",
            "/content/drive/MyDrive/thermal images UL/healthy/thermalimage8rr.jpg\n",
            "/content/drive/MyDrive/thermal images UL/healthy/thermalimage7a.jpg\n",
            "/content/drive/MyDrive/thermal images UL/healthy/thermalimage8u.jpg\n",
            "/content/drive/MyDrive/thermal images UL/healthy/thermalimage6s.jpg\n",
            "/content/drive/MyDrive/thermal images UL/healthy/thermalimage8pp.jpg\n",
            "/content/drive/MyDrive/thermal images UL/healthy/thermalimage5a.jpg\n",
            "/content/drive/MyDrive/thermal images UL/healthy/thermalimage8e.jpg\n",
            "/content/drive/MyDrive/thermal images UL/healthy/thermalimage8p.jpg\n",
            "/content/drive/MyDrive/thermal images UL/healthy/thermalimage6b.jpg\n",
            "/content/drive/MyDrive/thermal images UL/healthy/thermalimage3a.jpg\n",
            "/content/drive/MyDrive/thermal images UL/healthy/thermalimage4c.jpg\n",
            "/content/drive/MyDrive/thermal images UL/healthy/thermalimage8nn.jpg\n",
            "/content/drive/MyDrive/thermal images UL/healthy/thermalimage8ee.jpg\n",
            "/content/drive/MyDrive/thermal images UL/healthy/thermalimage8ff.jpg\n",
            "/content/drive/MyDrive/thermal images UL/leaf folder/thermalimage10a.jpg\n",
            "/content/drive/MyDrive/thermal images UL/leaf folder/thermalimage11a.jpg\n",
            "/content/drive/MyDrive/thermal images UL/leaf folder/thermalimage14a.jpg\n",
            "/content/drive/MyDrive/thermal images UL/leaf folder/thermalimage14b.jpg\n",
            "/content/drive/MyDrive/thermal images UL/leaf folder/thermalimage13c.jpg\n",
            "/content/drive/MyDrive/thermal images UL/leaf folder/thermalimage12a.jpg\n",
            "/content/drive/MyDrive/thermal images UL/leaf folder/thermalimage15a.jpg\n",
            "/content/drive/MyDrive/thermal images UL/leaf folder/thermalimage13b.jpg\n",
            "/content/drive/MyDrive/thermal images UL/leaf folder/thermalimage13a.jpg\n",
            "/content/drive/MyDrive/thermal images UL/leaf folder/thermalimage15b.jpg\n",
            "/content/drive/MyDrive/thermal images UL/leaf folder/thermalimage16a.jpg\n",
            "/content/drive/MyDrive/thermal images UL/leaf folder/thermalimage18d.jpg\n",
            "/content/drive/MyDrive/thermal images UL/leaf folder/thermalimage19b.jpg\n",
            "/content/drive/MyDrive/thermal images UL/leaf folder/thermalimage18a.jpg\n",
            "/content/drive/MyDrive/thermal images UL/leaf folder/thermalimage4a.jpg\n",
            "/content/drive/MyDrive/thermal images UL/leaf folder/thermalimage17b.jpg\n",
            "/content/drive/MyDrive/thermal images UL/leaf folder/thermalimage6a.jpg\n",
            "/content/drive/MyDrive/thermal images UL/leaf folder/thermalimage8a.jpg\n",
            "/content/drive/MyDrive/thermal images UL/leaf folder/thermalimage3a.jpg\n",
            "/content/drive/MyDrive/thermal images UL/leaf folder/thermalimage5a.jpg\n",
            "/content/drive/MyDrive/thermal images UL/leaf folder/thermalimage19a.jpg\n",
            "/content/drive/MyDrive/thermal images UL/leaf folder/thermalimage7a.jpg\n",
            "/content/drive/MyDrive/thermal images UL/leaf folder/thermalimage17a.jpg\n",
            "/content/drive/MyDrive/thermal images UL/leaf folder/thermalimage9a.jpg\n",
            "/content/drive/MyDrive/thermal images UL/leaf folder/thermalimage18b.jpg\n",
            "/content/drive/MyDrive/thermal images UL/leaf folder/thermalimage19d.jpg\n",
            "/content/drive/MyDrive/thermal images UL/leaf folder/thermalimage15c.jpg\n",
            "/content/drive/MyDrive/thermal images UL/leaf folder/thermalimage15d.jpg\n",
            "/content/drive/MyDrive/thermal images UL/leaf folder/thermalimage19c.jpg\n",
            "/content/drive/MyDrive/thermal images UL/leaf folder/thermalimage2a.jpg\n",
            "/content/drive/MyDrive/thermal images UL/leaf folder/thermalimage8b.jpg\n",
            "/content/drive/MyDrive/thermal images UL/leaf folder/thermalimage17c.jpg\n",
            "/content/drive/MyDrive/thermal images UL/leaf folder/thermalimage18c.jpg\n",
            "/content/drive/MyDrive/thermal images UL/leaf folder/thermalimage1a.jpg\n",
            "/content/drive/MyDrive/thermal images UL/BLB/thermalimage103b.jpg\n",
            "/content/drive/MyDrive/thermal images UL/BLB/thermalimage103c.jpg\n",
            "/content/drive/MyDrive/thermal images UL/BLB/thermalimage100a.jpg\n",
            "/content/drive/MyDrive/thermal images UL/BLB/thermalimage104a.jpg\n",
            "/content/drive/MyDrive/thermal images UL/BLB/thermalimage101a.jpg\n",
            "/content/drive/MyDrive/thermal images UL/BLB/thermalimage101c.jpg\n",
            "/content/drive/MyDrive/thermal images UL/BLB/thermalimage103e.jpg\n",
            "/content/drive/MyDrive/thermal images UL/BLB/thermalimage103a.jpg\n",
            "/content/drive/MyDrive/thermal images UL/BLB/thermalimage101b.jpg\n",
            "/content/drive/MyDrive/thermal images UL/BLB/thermalimage102b.jpg\n",
            "/content/drive/MyDrive/thermal images UL/BLB/thermalimage104b.jpg\n",
            "/content/drive/MyDrive/thermal images UL/BLB/thermalimage101d.jpg\n",
            "/content/drive/MyDrive/thermal images UL/BLB/thermalimage104c.jpg\n",
            "/content/drive/MyDrive/thermal images UL/BLB/thermalimage102a.jpg\n",
            "/content/drive/MyDrive/thermal images UL/BLB/thermalimage101e.jpg\n",
            "/content/drive/MyDrive/thermal images UL/BLB/thermalimage103f.jpg\n",
            "/content/drive/MyDrive/thermal images UL/BLB/thermalimage103d.jpg\n",
            "/content/drive/MyDrive/thermal images UL/BLB/thermalimage68b.jpg\n",
            "/content/drive/MyDrive/thermal images UL/BLB/thermalimage2f.jpg\n",
            "/content/drive/MyDrive/thermal images UL/BLB/thermalimage25a.jpg\n",
            "/content/drive/MyDrive/thermal images UL/BLB/thermalimage1b.jpg\n",
            "/content/drive/MyDrive/thermal images UL/BLB/thermalimage4g.jpg\n",
            "/content/drive/MyDrive/thermal images UL/BLB/thermalimage60c.jpg\n",
            "/content/drive/MyDrive/thermal images UL/BLB/thermalimage43b.jpg\n",
            "/content/drive/MyDrive/thermal images UL/BLB/thermalimage18b.jpg\n",
            "/content/drive/MyDrive/thermal images UL/BLB/thermalimage62e.jpg\n",
            "/content/drive/MyDrive/thermal images UL/BLB/thermalimage23a.jpg\n",
            "/content/drive/MyDrive/thermal images UL/BLB/thermalimage22a.jpg\n",
            "/content/drive/MyDrive/thermal images UL/BLB/thermalimage51a.jpg\n",
            "/content/drive/MyDrive/thermal images UL/BLB/thermalimage2e.jpg\n",
            "/content/drive/MyDrive/thermal images UL/BLB/thermalimage89a.jpg\n",
            "/content/drive/MyDrive/thermal images UL/BLB/thermalimage77a.jpg\n",
            "/content/drive/MyDrive/thermal images UL/BLB/thermalimage18a.jpg\n",
            "/content/drive/MyDrive/thermal images UL/BLB/thermalimage3k.jpg\n",
            "/content/drive/MyDrive/thermal images UL/BLB/thermalimage1c.jpg\n",
            "/content/drive/MyDrive/thermal images UL/BLB/thermalimage8a.jpg\n",
            "/content/drive/MyDrive/thermal images UL/BLB/thermalimage40b.jpg\n",
            "/content/drive/MyDrive/thermal images UL/BLB/thermalimage54a.jpg\n",
            "/content/drive/MyDrive/thermal images UL/BLB/thermalimage43a.jpg\n",
            "/content/drive/MyDrive/thermal images UL/BLB/thermalimage94a.jpg\n",
            "/content/drive/MyDrive/thermal images UL/BLB/thermalimage35a.jpg\n",
            "/content/drive/MyDrive/thermal images UL/BLB/thermalimage97a.jpg\n",
            "/content/drive/MyDrive/thermal images UL/BLB/thermalimage39a.jpg\n",
            "/content/drive/MyDrive/thermal images UL/BLB/thermalimage30a.jpg\n",
            "/content/drive/MyDrive/thermal images UL/BLB/thermalimage65b.jpg\n",
            "/content/drive/MyDrive/thermal images UL/BLB/thermalimage32b.jpg\n",
            "/content/drive/MyDrive/thermal images UL/BLB/thermalimage99a.jpg\n",
            "/content/drive/MyDrive/thermal images UL/BLB/thermalimage16b.jpg\n",
            "/content/drive/MyDrive/thermal images UL/BLB/thermalimage92a.jpg\n",
            "/content/drive/MyDrive/thermal images UL/BLB/thermalimage3d.jpg\n",
            "/content/drive/MyDrive/thermal images UL/BLB/thermalimage90a.jpg\n",
            "/content/drive/MyDrive/thermal images UL/BLB/thermalimage70a.jpg\n",
            "/content/drive/MyDrive/thermal images UL/BLB/thermalimage76a.jpg\n",
            "/content/drive/MyDrive/thermal images UL/BLB/thermalimage63a.jpg\n",
            "/content/drive/MyDrive/thermal images UL/BLB/thermalimage2b.jpg\n",
            "/content/drive/MyDrive/thermal images UL/BLB/thermalimage59a.jpg\n",
            "/content/drive/MyDrive/thermal images UL/BLB/thermalimage28b.jpg\n",
            "/content/drive/MyDrive/thermal images UL/BLB/thermalimage88a.jpg\n",
            "/content/drive/MyDrive/thermal images UL/BLB/thermalimage87a.jpg\n",
            "/content/drive/MyDrive/thermal images UL/BLB/thermalimage78b.jpg\n",
            "/content/drive/MyDrive/thermal images UL/BLB/thermalimage26a.jpg\n",
            "/content/drive/MyDrive/thermal images UL/BLB/thermalimage74a.jpg\n",
            "/content/drive/MyDrive/thermal images UL/BLB/thermalimage53a.jpg\n",
            "/content/drive/MyDrive/thermal images UL/BLB/thermalimage104d.jpg\n",
            "/content/drive/MyDrive/thermal images UL/BLB/thermalimage91a.jpg\n",
            "/content/drive/MyDrive/thermal images UL/BLB/thermalimage77b.jpg\n",
            "/content/drive/MyDrive/thermal images UL/BLB/thermalimage5h.jpg\n",
            "/content/drive/MyDrive/thermal images UL/BLB/thermalimage2h.jpg\n",
            "/content/drive/MyDrive/thermal images UL/BLB/thermalimage5b.jpg\n",
            "/content/drive/MyDrive/thermal images UL/BLB/thermalimage56a.jpg\n",
            "/content/drive/MyDrive/thermal images UL/BLB/thermalimage19b.jpg\n",
            "/content/drive/MyDrive/thermal images UL/BLB/thermalimage2k.jpg\n",
            "/content/drive/MyDrive/thermal images UL/BLB/thermalimage3i.jpg\n",
            "/content/drive/MyDrive/thermal images UL/BLB/thermalimage32a.jpg\n",
            "/content/drive/MyDrive/thermal images UL/BLB/thermalimage59b.jpg\n",
            "/content/drive/MyDrive/thermal images UL/BLB/thermalimage44a.jpg\n",
            "/content/drive/MyDrive/thermal images UL/BLB/thermalimage27a.jpg\n",
            "/content/drive/MyDrive/thermal images UL/BLB/thermalimage12a.jpg\n",
            "/content/drive/MyDrive/thermal images UL/BLB/thermalimage69b.jpg\n",
            "/content/drive/MyDrive/thermal images UL/BLB/thermalimage78a.jpg\n",
            "/content/drive/MyDrive/thermal images UL/BLB/thermalimage38a.jpg\n",
            "/content/drive/MyDrive/thermal images UL/BLB/thermalimage20a.jpg\n",
            "/content/drive/MyDrive/thermal images UL/BLB/thermalimage69a.jpg\n",
            "/content/drive/MyDrive/thermal images UL/BLB/thermalimage58a.jpg\n",
            "/content/drive/MyDrive/thermal images UL/BLB/thermalimage50a.jpg\n",
            "/content/drive/MyDrive/thermal images UL/BLB/thermalimage62c.jpg\n",
            "/content/drive/MyDrive/thermal images UL/BLB/thermalimage80a.jpg\n",
            "/content/drive/MyDrive/thermal images UL/BLB/thermalimage82b.jpg\n",
            "/content/drive/MyDrive/thermal images UL/BLB/thermalimage4h.jpg\n",
            "/content/drive/MyDrive/thermal images UL/BLB/thermalimage1d.jpg\n",
            "/content/drive/MyDrive/thermal images UL/BLB/thermalimage17b.jpg\n",
            "/content/drive/MyDrive/thermal images UL/BLB/thermalimage75b.jpg\n",
            "/content/drive/MyDrive/thermal images UL/BLB/thermalimage15a.jpg\n",
            "/content/drive/MyDrive/thermal images UL/BLB/thermalimage3a.jpg\n",
            "/content/drive/MyDrive/thermal images UL/BLB/thermalimage4f.jpg\n",
            "/content/drive/MyDrive/thermal images UL/BLB/thermalimage72b.jpg\n",
            "/content/drive/MyDrive/thermal images UL/BLB/thermalimage40a.jpg\n",
            "/content/drive/MyDrive/thermal images UL/BLB/thermalimage47a.jpg\n",
            "/content/drive/MyDrive/thermal images UL/BLB/thermalimage7a.jpg\n",
            "/content/drive/MyDrive/thermal images UL/BLB/thermalimage5e.jpg\n",
            "/content/drive/MyDrive/thermal images UL/BLB/thermalimage31a.jpg\n",
            "/content/drive/MyDrive/thermal images UL/BLB/thermalimage16a.jpg\n",
            "/content/drive/MyDrive/thermal images UL/BLB/thermalimage45a.jpg\n",
            "/content/drive/MyDrive/thermal images UL/BLB/thermalimage3l.jpg\n",
            "/content/drive/MyDrive/thermal images UL/BLB/thermalimage5d.jpg\n",
            "/content/drive/MyDrive/thermal images UL/BLB/thermalimage73a.jpg\n",
            "/content/drive/MyDrive/thermal images UL/BLB/thermalimage71a.jpg\n",
            "/content/drive/MyDrive/thermal images UL/BLB/thermalimage68a.jpg\n",
            "/content/drive/MyDrive/thermal images UL/BLB/thermalimage14a.jpg\n",
            "/content/drive/MyDrive/thermal images UL/BLB/thermalimage4c.jpg\n",
            "/content/drive/MyDrive/thermal images UL/BLB/thermalimage3b.jpg\n",
            "/content/drive/MyDrive/thermal images UL/BLB/thermalimage2n.jpg\n",
            "/content/drive/MyDrive/thermal images UL/BLB/thermalimage13a.jpg\n",
            "/content/drive/MyDrive/thermal images UL/BLB/thermalimage22b.jpg\n",
            "/content/drive/MyDrive/thermal images UL/BLB/thermalimage71c.jpg\n",
            "/content/drive/MyDrive/thermal images UL/BLB/thermalimage41b.jpg\n",
            "/content/drive/MyDrive/thermal images UL/BLB/thermalimage4a.jpg\n",
            "/content/drive/MyDrive/thermal images UL/BLB/thermalimage73b.jpg\n",
            "/content/drive/MyDrive/thermal images UL/BLB/thermalimage104e.jpg\n",
            "/content/drive/MyDrive/thermal images UL/BLB/thermalimage37a.jpg\n",
            "/content/drive/MyDrive/thermal images UL/BLB/thermalimage33a.jpg\n",
            "/content/drive/MyDrive/thermal images UL/BLB/thermalimage24a.jpg\n",
            "/content/drive/MyDrive/thermal images UL/BLB/thermalimage2o.jpg\n",
            "/content/drive/MyDrive/thermal images UL/BLB/thermalimage52a.jpg\n",
            "/content/drive/MyDrive/thermal images UL/BLB/thermalimage82c.jpg\n",
            "/content/drive/MyDrive/thermal images UL/BLB/thermalimage79a.jpg\n",
            "/content/drive/MyDrive/thermal images UL/BLB/thermalimage62f.jpg\n",
            "/content/drive/MyDrive/thermal images UL/BLB/thermalimage9a.jpg\n",
            "/content/drive/MyDrive/thermal images UL/BLB/thermalimage62a.jpg\n",
            "/content/drive/MyDrive/thermal images UL/BLB/thermalimage84a.jpg\n",
            "/content/drive/MyDrive/thermal images UL/BLB/thermalimage57a.jpg\n",
            "/content/drive/MyDrive/thermal images UL/BLB/thermalimage28a.jpg\n",
            "/content/drive/MyDrive/thermal images UL/BLB/thermalimage5c.jpg\n",
            "/content/drive/MyDrive/thermal images UL/BLB/thermalimage4i.jpg\n",
            "/content/drive/MyDrive/thermal images UL/BLB/thermalimage59c.jpg\n",
            "/content/drive/MyDrive/thermal images UL/BLB/thermalimage48a.jpg\n",
            "/content/drive/MyDrive/thermal images UL/BLB/thermalimage4d.jpg\n",
            "/content/drive/MyDrive/thermal images UL/BLB/thermalimage3e.jpg\n",
            "/content/drive/MyDrive/thermal images UL/BLB/thermalimage85a.jpg\n",
            "/content/drive/MyDrive/thermal images UL/BLB/thermalimage2g.jpg\n",
            "/content/drive/MyDrive/thermal images UL/BLB/thermalimage71d.jpg\n",
            "/content/drive/MyDrive/thermal images UL/BLB/thermalimage3g.jpg\n",
            "/content/drive/MyDrive/thermal images UL/BLB/thermalimage2a.jpg\n",
            "/content/drive/MyDrive/thermal images UL/BLB/thermalimage21a.jpg\n",
            "/content/drive/MyDrive/thermal images UL/BLB/thermalimage6b.jpg\n",
            "/content/drive/MyDrive/thermal images UL/BLB/thermalimage3c.jpg\n",
            "/content/drive/MyDrive/thermal images UL/BLB/thermalimage74b.jpg\n",
            "/content/drive/MyDrive/thermal images UL/BLB/thermalimage11a.jpg\n",
            "/content/drive/MyDrive/thermal images UL/BLB/thermalimage66a.jpg\n",
            "/content/drive/MyDrive/thermal images UL/BLB/thermalimage72d.jpg\n",
            "/content/drive/MyDrive/thermal images UL/BLB/thermalimage3m.jpg\n",
            "/content/drive/MyDrive/thermal images UL/BLB/thermalimage6f.jpg\n",
            "/content/drive/MyDrive/thermal images UL/BLB/thermalimage10a.jpg\n",
            "/content/drive/MyDrive/thermal images UL/BLB/thermalimage62d.jpg\n",
            "/content/drive/MyDrive/thermal images UL/BLB/thermalimage66b.jpg\n",
            "/content/drive/MyDrive/thermal images UL/BLB/thermalimage23b.jpg\n",
            "/content/drive/MyDrive/thermal images UL/BLB/thermalimage62b.jpg\n",
            "/content/drive/MyDrive/thermal images UL/BLB/thermalimage2j.jpg\n",
            "/content/drive/MyDrive/thermal images UL/BLB/thermalimage93a.jpg\n",
            "/content/drive/MyDrive/thermal images UL/BLB/thermalimage70b.jpg\n",
            "/content/drive/MyDrive/thermal images UL/BLB/thermalimage75a.jpg\n",
            "/content/drive/MyDrive/thermal images UL/BLB/thermalimage2c.jpg\n",
            "/content/drive/MyDrive/thermal images UL/BLB/thermalimage31b.jpg\n",
            "/content/drive/MyDrive/thermal images UL/BLB/thermalimage2l.jpg\n",
            "/content/drive/MyDrive/thermal images UL/BLB/thermalimage62i.jpg\n",
            "/content/drive/MyDrive/thermal images UL/BLB/thermalimage72a.jpg\n",
            "/content/drive/MyDrive/thermal images UL/BLB/thermalimage6e.jpg\n",
            "/content/drive/MyDrive/thermal images UL/BLB/thermalimage17a.jpg\n",
            "/content/drive/MyDrive/thermal images UL/BLB/thermalimage96a.jpg\n",
            "/content/drive/MyDrive/thermal images UL/BLB/thermalimage49a.jpg\n",
            "/content/drive/MyDrive/thermal images UL/BLB/thermalimage34a.jpg\n",
            "/content/drive/MyDrive/thermal images UL/BLB/thermalimage98a.jpg\n",
            "/content/drive/MyDrive/thermal images UL/BLB/thermalimage17c.jpg\n",
            "/content/drive/MyDrive/thermal images UL/BLB/thermalimage60b.jpg\n",
            "/content/drive/MyDrive/thermal images UL/BLB/thermalimage6c.jpg\n",
            "/content/drive/MyDrive/thermal images UL/BLB/thermalimage3h.jpg\n",
            "/content/drive/MyDrive/thermal images UL/BLB/thermalimage5f.jpg\n",
            "/content/drive/MyDrive/thermal images UL/BLB/thermalimage62g.jpg\n",
            "/content/drive/MyDrive/thermal images UL/BLB/thermalimage55a.jpg\n",
            "/content/drive/MyDrive/thermal images UL/BLB/thermalimage41a.jpg\n",
            "/content/drive/MyDrive/thermal images UL/BLB/thermalimage4e.jpg\n",
            "/content/drive/MyDrive/thermal images UL/BLB/thermalimage83a.jpg\n",
            "/content/drive/MyDrive/thermal images UL/BLB/thermalimage29a.jpg\n",
            "/content/drive/MyDrive/thermal images UL/BLB/thermalimage46a.jpg\n",
            "/content/drive/MyDrive/thermal images UL/BLB/thermalimage79b.jpg\n",
            "/content/drive/MyDrive/thermal images UL/BLB/thermalimage6a.jpg\n",
            "/content/drive/MyDrive/thermal images UL/BLB/thermalimage76b.jpg\n",
            "/content/drive/MyDrive/thermal images UL/BLB/thermalimage81b.jpg\n",
            "/content/drive/MyDrive/thermal images UL/BLB/thermalimage82a.jpg\n",
            "/content/drive/MyDrive/thermal images UL/BLB/thermalimage62h.jpg\n",
            "/content/drive/MyDrive/thermal images UL/BLB/thermalimage65c.jpg\n",
            "/content/drive/MyDrive/thermal images UL/BLB/thermalimage72c.jpg\n",
            "/content/drive/MyDrive/thermal images UL/BLB/thermalimage65a.jpg\n",
            "/content/drive/MyDrive/thermal images UL/BLB/thermalimage81a.jpg\n",
            "/content/drive/MyDrive/thermal images UL/BLB/thermalimage3j.jpg\n",
            "/content/drive/MyDrive/thermal images UL/BLB/thermalimage1e.jpg\n",
            "/content/drive/MyDrive/thermal images UL/BLB/thermalimage2m.jpg\n",
            "/content/drive/MyDrive/thermal images UL/BLB/thermalimage67b.jpg\n",
            "/content/drive/MyDrive/thermal images UL/BLB/thermalimage61a.jpg\n",
            "/content/drive/MyDrive/thermal images UL/BLB/thermalimage61b.jpg\n",
            "/content/drive/MyDrive/thermal images UL/BLB/thermalimage95a.jpg\n",
            "/content/drive/MyDrive/thermal images UL/BLB/thermalimage86a.jpg\n",
            "/content/drive/MyDrive/thermal images UL/BLB/thermalimage19a.jpg\n",
            "/content/drive/MyDrive/thermal images UL/BLB/thermalimage3f.jpg\n",
            "/content/drive/MyDrive/thermal images UL/BLB/thermalimage60a.jpg\n",
            "/content/drive/MyDrive/thermal images UL/BLB/thermalimage42a.jpg\n",
            "/content/drive/MyDrive/thermal images UL/BLB/thermalimage57b.jpg\n",
            "/content/drive/MyDrive/thermal images UL/BLB/thermalimage1a.jpg\n",
            "/content/drive/MyDrive/thermal images UL/BLB/thermalimage56b.jpg\n",
            "/content/drive/MyDrive/thermal images UL/BLB/thermalimage2i.jpg\n",
            "/content/drive/MyDrive/thermal images UL/BLB/thermalimage2d.jpg\n",
            "/content/drive/MyDrive/thermal images UL/BLB/thermalimage6d.jpg\n",
            "/content/drive/MyDrive/thermal images UL/BLB/thermalimage36a.jpg\n",
            "/content/drive/MyDrive/thermal images UL/BLB/thermalimage67c.jpg\n",
            "/content/drive/MyDrive/thermal images UL/BLB/thermalimage70c.jpg\n",
            "/content/drive/MyDrive/thermal images UL/BLB/thermalimage5g.jpg\n",
            "/content/drive/MyDrive/thermal images UL/BLB/thermalimage67a.jpg\n",
            "/content/drive/MyDrive/thermal images UL/BLB/thermalimage5a.jpg\n",
            "/content/drive/MyDrive/thermal images UL/BLB/thermalimage4b.jpg\n",
            "/content/drive/MyDrive/thermal images UL/BLB/thermalimage71b.jpg\n",
            "/content/drive/MyDrive/thermal images UL/leaf spot/thermalimage5a.jpg\n",
            "/content/drive/MyDrive/thermal images UL/leaf spot/thermalimage8a.jpg\n",
            "/content/drive/MyDrive/thermal images UL/leaf spot/thermalimage31a.jpg\n",
            "/content/drive/MyDrive/thermal images UL/leaf spot/thermalimage1k.jpg\n",
            "/content/drive/MyDrive/thermal images UL/leaf spot/thermalimage2b.jpg\n",
            "/content/drive/MyDrive/thermal images UL/leaf spot/thermalimage1b.jpg\n",
            "/content/drive/MyDrive/thermal images UL/leaf spot/thermalimage31c.jpg\n",
            "/content/drive/MyDrive/thermal images UL/leaf spot/thermalimage30c.jpg\n",
            "/content/drive/MyDrive/thermal images UL/leaf spot/thermalimage27a.jpg\n",
            "/content/drive/MyDrive/thermal images UL/leaf spot/thermalimage28b.jpg\n",
            "/content/drive/MyDrive/thermal images UL/leaf spot/thermalimage33b.jpg\n",
            "/content/drive/MyDrive/thermal images UL/leaf spot/thermalimage26c.jpg\n",
            "/content/drive/MyDrive/thermal images UL/leaf spot/thermalimage1f.jpg\n",
            "/content/drive/MyDrive/thermal images UL/leaf spot/thermalimage29b.jpg\n",
            "/content/drive/MyDrive/thermal images UL/leaf spot/thermalimage13a.jpg\n",
            "/content/drive/MyDrive/thermal images UL/leaf spot/thermalimage3a.jpg\n",
            "/content/drive/MyDrive/thermal images UL/leaf spot/thermalimage10b.jpg\n",
            "/content/drive/MyDrive/thermal images UL/leaf spot/thermalimage24b.jpg\n",
            "/content/drive/MyDrive/thermal images UL/leaf spot/thermalimage24e.jpg\n",
            "/content/drive/MyDrive/thermal images UL/leaf spot/thermalimage24a.jpg\n",
            "/content/drive/MyDrive/thermal images UL/leaf spot/thermalimage24c.jpg\n",
            "/content/drive/MyDrive/thermal images UL/leaf spot/thermalimage17a.jpg\n",
            "/content/drive/MyDrive/thermal images UL/leaf spot/thermalimage12c.jpg\n",
            "/content/drive/MyDrive/thermal images UL/leaf spot/thermalimage9a.jpg\n",
            "/content/drive/MyDrive/thermal images UL/leaf spot/thermalimage1c.jpg\n",
            "/content/drive/MyDrive/thermal images UL/leaf spot/thermalimage26b.jpg\n",
            "/content/drive/MyDrive/thermal images UL/leaf spot/thermalimage2c.jpg\n",
            "/content/drive/MyDrive/thermal images UL/leaf spot/thermalimage16a.jpg\n",
            "/content/drive/MyDrive/thermal images UL/leaf spot/thermalimage10a.jpg\n",
            "/content/drive/MyDrive/thermal images UL/leaf spot/thermalimage31d.jpg\n",
            "/content/drive/MyDrive/thermal images UL/leaf spot/thermalimage2f.jpg\n",
            "/content/drive/MyDrive/thermal images UL/leaf spot/thermalimage31b.jpg\n",
            "/content/drive/MyDrive/thermal images UL/leaf spot/thermalimage12e.jpg\n",
            "/content/drive/MyDrive/thermal images UL/leaf spot/thermalimage25b.jpg\n",
            "/content/drive/MyDrive/thermal images UL/leaf spot/thermalimage12a.jpg\n",
            "/content/drive/MyDrive/thermal images UL/leaf spot/thermalimage21a.jpg\n",
            "/content/drive/MyDrive/thermal images UL/leaf spot/thermalimage14a.jpg\n",
            "/content/drive/MyDrive/thermal images UL/leaf spot/thermalimage2h.jpg\n",
            "/content/drive/MyDrive/thermal images UL/leaf spot/thermalimage15a.jpg\n",
            "/content/drive/MyDrive/thermal images UL/leaf spot/thermalimage6a.jpg\n",
            "/content/drive/MyDrive/thermal images UL/leaf spot/thermalimage30b.jpg\n",
            "/content/drive/MyDrive/thermal images UL/leaf spot/thermalimage1h.jpg\n",
            "/content/drive/MyDrive/thermal images UL/leaf spot/thermalimage23a.jpg\n",
            "/content/drive/MyDrive/thermal images UL/leaf spot/thermalimage33c.jpg\n",
            "/content/drive/MyDrive/thermal images UL/leaf spot/thermalimage2g.jpg\n",
            "/content/drive/MyDrive/thermal images UL/leaf spot/thermalimage2d.jpg\n",
            "/content/drive/MyDrive/thermal images UL/leaf spot/thermalimage22a.jpg\n",
            "/content/drive/MyDrive/thermal images UL/leaf spot/thermalimage2e.jpg\n",
            "/content/drive/MyDrive/thermal images UL/leaf spot/thermalimage1d.jpg\n",
            "/content/drive/MyDrive/thermal images UL/leaf spot/thermalimage4a.jpg\n",
            "/content/drive/MyDrive/thermal images UL/leaf spot/thermalimage7a.jpg\n",
            "/content/drive/MyDrive/thermal images UL/leaf spot/thermalimage32c.jpg\n",
            "/content/drive/MyDrive/thermal images UL/leaf spot/thermalimage1a.jpg\n",
            "/content/drive/MyDrive/thermal images UL/leaf spot/thermalimage19a.jpg\n",
            "/content/drive/MyDrive/thermal images UL/leaf spot/thermalimage2a.jpg\n",
            "/content/drive/MyDrive/thermal images UL/leaf spot/thermalimage29a.jpg\n",
            "/content/drive/MyDrive/thermal images UL/leaf spot/thermalimage20a.jpg\n",
            "/content/drive/MyDrive/thermal images UL/leaf spot/thermalimage2i.jpg\n",
            "/content/drive/MyDrive/thermal images UL/leaf spot/thermalimage30a.jpg\n",
            "/content/drive/MyDrive/thermal images UL/leaf spot/thermalimage32a.jpg\n",
            "/content/drive/MyDrive/thermal images UL/leaf spot/thermalimage33a.jpg\n",
            "/content/drive/MyDrive/thermal images UL/leaf spot/thermalimage12f.jpg\n",
            "/content/drive/MyDrive/thermal images UL/leaf spot/thermalimage11d.jpg\n",
            "/content/drive/MyDrive/thermal images UL/leaf spot/thermalimage28a.jpg\n",
            "/content/drive/MyDrive/thermal images UL/leaf spot/thermalimage18a.jpg\n",
            "/content/drive/MyDrive/thermal images UL/leaf spot/thermalimage32b.jpg\n",
            "/content/drive/MyDrive/thermal images UL/leaf spot/thermalimage11c.jpg\n",
            "/content/drive/MyDrive/thermal images UL/leaf spot/thermalimage11b.jpg\n",
            "/content/drive/MyDrive/thermal images UL/leaf spot/thermalimage12d.jpg\n",
            "/content/drive/MyDrive/thermal images UL/leaf spot/thermalimage27b.jpg\n",
            "/content/drive/MyDrive/thermal images UL/leaf spot/thermalimage1j.jpg\n",
            "/content/drive/MyDrive/thermal images UL/leaf spot/thermalimage10c.jpg\n",
            "/content/drive/MyDrive/thermal images UL/leaf spot/thermalimage26a.jpg\n",
            "/content/drive/MyDrive/thermal images UL/leaf spot/thermalimage24d.jpg\n",
            "/content/drive/MyDrive/thermal images UL/leaf spot/thermalimage1e.jpg\n",
            "/content/drive/MyDrive/thermal images UL/leaf spot/thermalimage11a.jpg\n",
            "/content/drive/MyDrive/thermal images UL/leaf spot/thermalimage28c.jpg\n",
            "/content/drive/MyDrive/thermal images UL/leaf spot/thermalimage1g.jpg\n",
            "/content/drive/MyDrive/thermal images UL/leaf spot/thermalimage25a.jpg\n",
            "/content/drive/MyDrive/thermal images UL/leaf spot/thermalimage12b.jpg\n",
            "/content/drive/MyDrive/thermal images UL/Blast/Thermalimage11i.jpg\n",
            "/content/drive/MyDrive/thermal images UL/Blast/Thermalimage10h.jpg\n",
            "/content/drive/MyDrive/thermal images UL/Blast/Thermalimage1i.jpg\n",
            "/content/drive/MyDrive/thermal images UL/Blast/Thermalimage10k.jpg\n",
            "/content/drive/MyDrive/thermal images UL/Blast/Thermalimage10b.jpg\n",
            "/content/drive/MyDrive/thermal images UL/Blast/Thermalimage11f.jpg\n",
            "/content/drive/MyDrive/thermal images UL/Blast/Thermalimage11e.jpg\n",
            "/content/drive/MyDrive/thermal images UL/Blast/Thermalimage10j.jpg\n",
            "/content/drive/MyDrive/thermal images UL/Blast/Thermalimage10e.jpg\n",
            "/content/drive/MyDrive/thermal images UL/Blast/Thermalimage11v.jpg\n",
            "/content/drive/MyDrive/thermal images UL/Blast/Thermalimage11o.jpg\n",
            "/content/drive/MyDrive/thermal images UL/Blast/Thermalimage11t.jpg\n",
            "/content/drive/MyDrive/thermal images UL/Blast/Thermalimage1c.jpg\n",
            "/content/drive/MyDrive/thermal images UL/Blast/Thermalimage1b.jpg\n",
            "/content/drive/MyDrive/thermal images UL/Blast/Thermalimage3a.jpg\n",
            "/content/drive/MyDrive/thermal images UL/Blast/Thermalimage10g.jpg\n",
            "/content/drive/MyDrive/thermal images UL/Blast/Thermalimage10d.jpg\n",
            "/content/drive/MyDrive/thermal images UL/Blast/Thermalimage10c.jpg\n",
            "/content/drive/MyDrive/thermal images UL/Blast/Thermalimage11k.jpg\n",
            "/content/drive/MyDrive/thermal images UL/Blast/Thermalimage10p.jpg\n",
            "/content/drive/MyDrive/thermal images UL/Blast/Thermalimage11m.jpg\n",
            "/content/drive/MyDrive/thermal images UL/Blast/Thermalimage1a.jpg\n",
            "/content/drive/MyDrive/thermal images UL/Blast/Thermalimage11h.jpg\n",
            "/content/drive/MyDrive/thermal images UL/Blast/Thermalimage10f.jpg\n",
            "/content/drive/MyDrive/thermal images UL/Blast/Thermalimage11c.jpg\n",
            "/content/drive/MyDrive/thermal images UL/Blast/Thermalimage10a.jpg\n",
            "/content/drive/MyDrive/thermal images UL/Blast/Thermalimage11u.jpg\n",
            "/content/drive/MyDrive/thermal images UL/Blast/Thermalimage10m.jpg\n",
            "/content/drive/MyDrive/thermal images UL/Blast/Thermalimage5c.jpg\n",
            "/content/drive/MyDrive/thermal images UL/Blast/Thermalimage11d.jpg\n",
            "/content/drive/MyDrive/thermal images UL/Blast/Thermalimage5a.jpg\n",
            "/content/drive/MyDrive/thermal images UL/Blast/Thermalimage11q.jpg\n",
            "/content/drive/MyDrive/thermal images UL/Blast/Thermalimage11a.jpg\n",
            "/content/drive/MyDrive/thermal images UL/Blast/Thermalimage5b.jpg\n",
            "/content/drive/MyDrive/thermal images UL/Blast/Thermalimage11n.jpg\n",
            "/content/drive/MyDrive/thermal images UL/Blast/Thermalimage2a.jpg\n",
            "/content/drive/MyDrive/thermal images UL/Blast/Thermalimage11g.jpg\n",
            "/content/drive/MyDrive/thermal images UL/Blast/Thermalimage1g.jpg\n",
            "/content/drive/MyDrive/thermal images UL/Blast/Thermalimage11b.jpg\n",
            "/content/drive/MyDrive/thermal images UL/Blast/Thermalimage1e.jpg\n",
            "/content/drive/MyDrive/thermal images UL/Blast/Thermalimage11r.jpg\n",
            "/content/drive/MyDrive/thermal images UL/Blast/Thermalimage10o.jpg\n",
            "/content/drive/MyDrive/thermal images UL/Blast/Thermalimage10i.jpg\n",
            "/content/drive/MyDrive/thermal images UL/Blast/Thermalimage1d.jpg\n",
            "/content/drive/MyDrive/thermal images UL/Blast/Thermalimage11l.jpg\n",
            "/content/drive/MyDrive/thermal images UL/Blast/Thermalimage5e.jpg\n",
            "/content/drive/MyDrive/thermal images UL/Blast/Thermalimage4a.jpg\n",
            "/content/drive/MyDrive/thermal images UL/Blast/Thermalimage1h.jpg\n",
            "/content/drive/MyDrive/thermal images UL/Blast/Thermalimage11w.jpg\n",
            "/content/drive/MyDrive/thermal images UL/Blast/Thermalimage11p.jpg\n",
            "/content/drive/MyDrive/thermal images UL/Blast/Thermalimage10n.jpg\n",
            "/content/drive/MyDrive/thermal images UL/Blast/Thermalimage5d.jpg\n",
            "/content/drive/MyDrive/thermal images UL/Blast/Thermalimage10l.jpg\n",
            "/content/drive/MyDrive/thermal images UL/Blast/Thermalimage11s.jpg\n",
            "/content/drive/MyDrive/thermal images UL/Blast/Thermalimage7b.jpg\n",
            "/content/drive/MyDrive/thermal images UL/Blast/Thermalimage9g.jpg\n",
            "/content/drive/MyDrive/thermal images UL/Blast/Thermalimage9f.jpg\n",
            "/content/drive/MyDrive/thermal images UL/Blast/Thermalimagex.jpg\n",
            "/content/drive/MyDrive/thermal images UL/Blast/Thermalimage8b.jpg\n",
            "/content/drive/MyDrive/thermal images UL/Blast/Thermalimage8a.jpg\n",
            "/content/drive/MyDrive/thermal images UL/Blast/Thermalimage9b.jpg\n",
            "/content/drive/MyDrive/thermal images UL/Blast/Thermalimage9c.jpg\n",
            "/content/drive/MyDrive/thermal images UL/Blast/Thermalimage9d.jpg\n",
            "/content/drive/MyDrive/thermal images UL/Blast/Thermalimage6a.jpg\n",
            "/content/drive/MyDrive/thermal images UL/Blast/Thermalimage9a.jpg\n",
            "/content/drive/MyDrive/thermal images UL/Blast/Thermalimage9e.jpg\n",
            "/content/drive/MyDrive/thermal images UL/Blast/Thermalimage7a.jpg\n",
            "/content/drive/MyDrive/thermal images UL/hispa/thermalimage61e.jpg\n",
            "/content/drive/MyDrive/thermal images UL/hispa/thermalimage61g.jpg\n",
            "/content/drive/MyDrive/thermal images UL/hispa/thermalimage52a.jpg\n",
            "/content/drive/MyDrive/thermal images UL/hispa/thermalimage10a.jpg\n",
            "/content/drive/MyDrive/thermal images UL/hispa/thermalimage61a.jpg\n",
            "/content/drive/MyDrive/thermal images UL/hispa/thermalimage8a.jpg\n",
            "/content/drive/MyDrive/thermal images UL/hispa/thermalimage28a.jpg\n",
            "/content/drive/MyDrive/thermal images UL/hispa/thermalimage22a.jpg\n",
            "/content/drive/MyDrive/thermal images UL/hispa/thermalimage69a.jpg\n",
            "/content/drive/MyDrive/thermal images UL/hispa/thermalimage15a.jpg\n",
            "/content/drive/MyDrive/thermal images UL/hispa/thermalimage6b.jpg\n",
            "/content/drive/MyDrive/thermal images UL/hispa/thermalimage29a.jpg\n",
            "/content/drive/MyDrive/thermal images UL/hispa/thermalimage61c.jpg\n",
            "/content/drive/MyDrive/thermal images UL/hispa/thermalimage36a.jpg\n",
            "/content/drive/MyDrive/thermal images UL/hispa/thermalimage32a.jpg\n",
            "/content/drive/MyDrive/thermal images UL/hispa/thermalimage50a.jpg\n",
            "/content/drive/MyDrive/thermal images UL/hispa/thermalimage6a.jpg\n",
            "/content/drive/MyDrive/thermal images UL/hispa/thermalimage49a.jpg\n",
            "/content/drive/MyDrive/thermal images UL/hispa/thermalimage45a.jpg\n",
            "/content/drive/MyDrive/thermal images UL/hispa/thermalimage65a.jpg\n",
            "/content/drive/MyDrive/thermal images UL/hispa/thermalimage23a.jpg\n",
            "/content/drive/MyDrive/thermal images UL/hispa/thermalimage2b.jpg\n",
            "/content/drive/MyDrive/thermal images UL/hispa/thermalimage57a.jpg\n",
            "/content/drive/MyDrive/thermal images UL/hispa/thermalimage72a.jpg\n",
            "/content/drive/MyDrive/thermal images UL/hispa/thermalimage65b.jpg\n",
            "/content/drive/MyDrive/thermal images UL/hispa/thermalimage36b.jpg\n",
            "/content/drive/MyDrive/thermal images UL/hispa/thermalimage66a.jpg\n",
            "/content/drive/MyDrive/thermal images UL/hispa/thermalimage12a.jpg\n",
            "/content/drive/MyDrive/thermal images UL/hispa/thermalimage12b.jpg\n",
            "/content/drive/MyDrive/thermal images UL/hispa/thermalimage26a.jpg\n",
            "/content/drive/MyDrive/thermal images UL/hispa/thermalimage15d.jpg\n",
            "/content/drive/MyDrive/thermal images UL/hispa/thermalimage13c.jpg\n",
            "/content/drive/MyDrive/thermal images UL/hispa/thermalimage68a.jpg\n",
            "/content/drive/MyDrive/thermal images UL/hispa/thermalimage51a.jpg\n",
            "/content/drive/MyDrive/thermal images UL/hispa/thermalimage16j.jpg\n",
            "/content/drive/MyDrive/thermal images UL/hispa/thermalimage16e.jpg\n",
            "/content/drive/MyDrive/thermal images UL/hispa/thermalimage42a.jpg\n",
            "/content/drive/MyDrive/thermal images UL/hispa/thermalimage16a.jpg\n",
            "/content/drive/MyDrive/thermal images UL/hispa/thermalimage63b.jpg\n",
            "/content/drive/MyDrive/thermal images UL/hispa/thermalimage13b.jpg\n",
            "/content/drive/MyDrive/thermal images UL/hispa/thermalimage72b.jpg\n",
            "/content/drive/MyDrive/thermal images UL/hispa/thermalimage27a.jpg\n",
            "/content/drive/MyDrive/thermal images UL/hispa/thermalimage64b.jpg\n",
            "/content/drive/MyDrive/thermal images UL/hispa/thermalimage7c.jpg\n",
            "/content/drive/MyDrive/thermal images UL/hispa/thermalimage60b.jpg\n",
            "/content/drive/MyDrive/thermal images UL/hispa/thermalimage.jpg\n",
            "/content/drive/MyDrive/thermal images UL/hispa/thermalimage47a.jpg\n",
            "/content/drive/MyDrive/thermal images UL/hispa/thermalimage17a.jpg\n",
            "/content/drive/MyDrive/thermal images UL/hispa/thermalimage25a.jpg\n",
            "/content/drive/MyDrive/thermal images UL/hispa/thermalimage58a.jpg\n",
            "/content/drive/MyDrive/thermal images UL/hispa/thermalimage1h.jpg\n",
            "/content/drive/MyDrive/thermal images UL/hispa/thermalimage37a.jpg\n",
            "/content/drive/MyDrive/thermal images UL/hispa/thermalimage29c.jpg\n",
            "/content/drive/MyDrive/thermal images UL/hispa/thermalimage44a.jpg\n",
            "/content/drive/MyDrive/thermal images UL/hispa/thermalimage29d.jpg\n",
            "/content/drive/MyDrive/thermal images UL/hispa/thermalimage64a.jpg\n",
            "/content/drive/MyDrive/thermal images UL/hispa/thermalimage57c.jpg\n",
            "/content/drive/MyDrive/thermal images UL/hispa/thermalimage35a.jpg\n",
            "/content/drive/MyDrive/thermal images UL/hispa/thermalimage14d.jpg\n",
            "/content/drive/MyDrive/thermal images UL/hispa/thermalimage31a.jpg\n",
            "/content/drive/MyDrive/thermal images UL/hispa/thermalimage15b.jpg\n",
            "/content/drive/MyDrive/thermal images UL/hispa/thermalimage19a.jpg\n",
            "/content/drive/MyDrive/thermal images UL/hispa/thermalimage46a.jpg\n",
            "/content/drive/MyDrive/thermal images UL/hispa/thermalimage16p.jpg\n",
            "/content/drive/MyDrive/thermal images UL/hispa/thermalimage15e.jpg\n",
            "/content/drive/MyDrive/thermal images UL/hispa/thermalimage16l.jpg\n",
            "/content/drive/MyDrive/thermal images UL/hispa/thermalimage60a.jpg\n",
            "/content/drive/MyDrive/thermal images UL/hispa/thermalimage16h.jpg\n",
            "/content/drive/MyDrive/thermal images UL/hispa/thermalimage16c.jpg\n",
            "/content/drive/MyDrive/thermal images UL/hispa/thermalimage16n.jpg\n",
            "/content/drive/MyDrive/thermal images UL/hispa/thermalimage16b.jpg\n",
            "/content/drive/MyDrive/thermal images UL/hispa/thermalimage8b.jpg\n",
            "/content/drive/MyDrive/thermal images UL/hispa/thermalimage1g.jpg\n",
            "/content/drive/MyDrive/thermal images UL/hispa/thermalimage7a.jpg\n",
            "/content/drive/MyDrive/thermal images UL/hispa/thermalimage16d.jpg\n",
            "/content/drive/MyDrive/thermal images UL/hispa/thermalimage61b.jpg\n",
            "/content/drive/MyDrive/thermal images UL/hispa/thermalimage56c.jpg\n",
            "/content/drive/MyDrive/thermal images UL/hispa/thermalimage59b.jpg\n",
            "/content/drive/MyDrive/thermal images UL/hispa/thermalimage4b.jpg\n",
            "/content/drive/MyDrive/thermal images UL/hispa/thermalimage4a.jpg\n",
            "/content/drive/MyDrive/thermal images UL/hispa/thermalimage59a.jpg\n",
            "/content/drive/MyDrive/thermal images UL/hispa/thermalimage57b.jpg\n",
            "/content/drive/MyDrive/thermal images UL/hispa/thermalimage34a.jpg\n",
            "/content/drive/MyDrive/thermal images UL/hispa/thermalimage13a.jpg\n",
            "/content/drive/MyDrive/thermal images UL/hispa/thermalimage14e.jpg\n",
            "/content/drive/MyDrive/thermal images UL/hispa/thermalimage1a.jpg\n",
            "/content/drive/MyDrive/thermal images UL/hispa/thermalimage56a.jpg\n",
            "/content/drive/MyDrive/thermal images UL/hispa/thermalimage48a.jpg\n",
            "/content/drive/MyDrive/thermal images UL/hispa/thermalimage10b.jpg\n",
            "/content/drive/MyDrive/thermal images UL/hispa/thermalimage20a.jpg\n",
            "/content/drive/MyDrive/thermal images UL/hispa/thermalimage36c.jpg\n",
            "/content/drive/MyDrive/thermal images UL/hispa/thermalimage9a.jpg\n",
            "/content/drive/MyDrive/thermal images UL/hispa/thermalimage55a.jpg\n",
            "/content/drive/MyDrive/thermal images UL/hispa/thermalimage14a.jpg\n",
            "/content/drive/MyDrive/thermal images UL/hispa/thermalimage61d.jpg\n",
            "/content/drive/MyDrive/thermal images UL/hispa/thermalimage21a.jpg\n",
            "/content/drive/MyDrive/thermal images UL/hispa/thermalimage63a.jpg\n",
            "/content/drive/MyDrive/thermal images UL/hispa/thermalimage1c.jpg\n",
            "/content/drive/MyDrive/thermal images UL/hispa/thermalimage6c.jpg\n",
            "/content/drive/MyDrive/thermal images UL/hispa/thermalimage70a.jpg\n",
            "/content/drive/MyDrive/thermal images UL/hispa/thermalimage7b.jpg\n",
            "/content/drive/MyDrive/thermal images UL/hispa/thermalimage16m.jpg\n",
            "/content/drive/MyDrive/thermal images UL/hispa/thermalimage5a.jpg\n",
            "/content/drive/MyDrive/thermal images UL/hispa/thermalimage58b.jpg\n",
            "/content/drive/MyDrive/thermal images UL/hispa/thermalimage16f.jpg\n",
            "/content/drive/MyDrive/thermal images UL/hispa/thermalimage24a.jpg\n",
            "/content/drive/MyDrive/thermal images UL/hispa/thermalimage71a.jpg\n",
            "/content/drive/MyDrive/thermal images UL/hispa/thermalimage38a.jpg\n",
            "/content/drive/MyDrive/thermal images UL/hispa/thermalimage14c.jpg\n",
            "/content/drive/MyDrive/thermal images UL/hispa/thermalimage40a.jpg\n",
            "/content/drive/MyDrive/thermal images UL/hispa/thermalimage39a.jpg\n",
            "/content/drive/MyDrive/thermal images UL/hispa/thermalimage30a.jpg\n",
            "/content/drive/MyDrive/thermal images UL/hispa/thermalimage41a.jpg\n",
            "/content/drive/MyDrive/thermal images UL/hispa/thermalimage5b.jpg\n",
            "/content/drive/MyDrive/thermal images UL/hispa/thermalimage15f.jpg\n",
            "/content/drive/MyDrive/thermal images UL/hispa/thermalimage54a.jpg\n",
            "/content/drive/MyDrive/thermal images UL/hispa/thermalimage11a.jpg\n",
            "/content/drive/MyDrive/thermal images UL/hispa/thermalimage14b.jpg\n",
            "/content/drive/MyDrive/thermal images UL/hispa/thermalimage1f.jpg\n",
            "/content/drive/MyDrive/thermal images UL/hispa/thermalimage56b.jpg\n",
            "/content/drive/MyDrive/thermal images UL/hispa/thermalimage16k.jpg\n",
            "/content/drive/MyDrive/thermal images UL/hispa/thermalimage11b.jpg\n",
            "/content/drive/MyDrive/thermal images UL/hispa/thermalimage3b.jpg\n",
            "/content/drive/MyDrive/thermal images UL/hispa/thermalimage16o.jpg\n",
            "/content/drive/MyDrive/thermal images UL/hispa/thermalimage1d.jpg\n",
            "/content/drive/MyDrive/thermal images UL/hispa/thermalimage29b.jpg\n",
            "/content/drive/MyDrive/thermal images UL/hispa/thermalimage2a.jpg\n",
            "/content/drive/MyDrive/thermal images UL/hispa/thermalimage3a.jpg\n",
            "/content/drive/MyDrive/thermal images UL/hispa/thermalimage43a.jpg\n",
            "/content/drive/MyDrive/thermal images UL/hispa/thermalimage16g.jpg\n",
            "/content/drive/MyDrive/thermal images UL/hispa/thermalimage33a.jpg\n",
            "/content/drive/MyDrive/thermal images UL/hispa/thermalimage1e.jpg\n",
            "/content/drive/MyDrive/thermal images UL/hispa/thermalimage15g.jpg\n",
            "/content/drive/MyDrive/thermal images UL/hispa/thermalimage2c.jpg\n",
            "/content/drive/MyDrive/thermal images UL/hispa/thermalimage16i.jpg\n",
            "/content/drive/MyDrive/thermal images UL/hispa/thermalimage1b.jpg\n",
            "/content/drive/MyDrive/thermal images UL/hispa/thermalimage53a.jpg\n",
            "/content/drive/MyDrive/thermal images UL/hispa/thermalimage61f.jpg\n",
            "/content/drive/MyDrive/thermal images UL/hispa/thermalimage67a.jpg\n",
            "/content/drive/MyDrive/thermal images UL/hispa/thermalimage18a.jpg\n",
            "/content/drive/MyDrive/thermal images UL/hispa/thermalimage15c.jpg\n",
            "/content/drive/MyDrive/thermal images UL/hispa/thermalimage67b.jpg\n",
            "/content/drive/MyDrive/thermal images UL/RESNET50/imagenet_class_index.json\n",
            "/content/drive/MyDrive/thermal images UL/RESNET50/resnet50_weights_tf_dim_ordering_tf_kernels.h5\n",
            "/content/drive/MyDrive/thermal images UL/RESNET50/resnet50_weights_tf_dim_ordering_tf_kernels_notop.h5\n"
          ]
        }
      ]
    },
    {
      "cell_type": "code",
      "source": [
        "cv_img = cv2.imread(\"/content/drive/MyDrive/thermal images UL/leaf spot/thermalimage11c.jpg\")\n",
        "print(cv_img.shape)"
      ],
      "metadata": {
        "colab": {
          "base_uri": "https://localhost:8080/"
        },
        "id": "Mbf0cPn7nIBq",
        "outputId": "4fce2cb4-ab1f-4def-efe3-c9ac724c03a2"
      },
      "execution_count": null,
      "outputs": [
        {
          "output_type": "stream",
          "name": "stdout",
          "text": [
            "(240, 320, 3)\n"
          ]
        }
      ]
    },
    {
      "cell_type": "code",
      "source": [
        "import os\n",
        "for dirname, _, filenames in os.walk('\"/content/drive/MyDrive/thermal images UL\"'):\n",
        "    for filename in filenames:\n",
        "        file_path = os.path.join(dirname, filename)\n",
        "        #print(file_path)\n",
        "        if file_path == \"/content/drive/MyDrive/thermal images UL/Read Me - Oryza sativa - TImages.docx\":\n",
        "            continue\n",
        "        img = cv2.imread(file_path)\n",
        "        #img = cv2.cvtColor(img, cv2.COLOR_BGR2GRAY)\n",
        "        #img[218:, :58] = 0\n",
        "        #img[:30,275:] = 0\n",
        "        #img[210:,275:] = 0\n",
        "        #img[:,300:] = 0\n",
        "        if not os.path.isdir(file_path.split('/')[-2]):\n",
        "            os.mkdir(file_path.split('/')[-2])\n",
        "        cv2.imwrite(\"/\".join(file_path.split('/')[-2:]), img)"
      ],
      "metadata": {
        "id": "cBI3V404ojME"
      },
      "execution_count": null,
      "outputs": []
    },
    {
      "cell_type": "code",
      "source": [
        "\n",
        "!pwd\n",
        "!ls\n",
        "\n",
        "\n"
      ],
      "metadata": {
        "colab": {
          "base_uri": "https://localhost:8080/"
        },
        "id": "E0QZR6IlpvaY",
        "outputId": "f8d70af5-7c2b-4094-c9be-18f3fc325ec1"
      },
      "execution_count": null,
      "outputs": [
        {
          "output_type": "stream",
          "name": "stdout",
          "text": [
            "/content\n",
            "drive  sample_data  Thermalimage1a.jpg\n"
          ]
        }
      ]
    },
    {
      "cell_type": "code",
      "source": [
        "ds_train = tf.keras.utils.image_dataset_from_directory(\".\", seed=42, label_mode='categorical',\n",
        "                                                       color_mode='rgb', batch_size=32, image_size=(224,224),\n",
        "                                                       validation_split=0.2, subset=\"training\")\n",
        "ds_test = tf.keras.utils.image_dataset_from_directory(\".\", seed=42, label_mode='categorical',\n",
        "                                                      color_mode='rgb', batch_size=32, image_size=(224,224),\n",
        "                                                      validation_split=0.2, subset=\"validation\")"
      ],
      "metadata": {
        "colab": {
          "base_uri": "https://localhost:8080/"
        },
        "id": "hPpZQ2COp58X",
        "outputId": "ac5ffb82-e93b-48b1-dc25-1a0af1d57778"
      },
      "execution_count": null,
      "outputs": [
        {
          "output_type": "stream",
          "name": "stdout",
          "text": [
            "Found 658 files belonging to 3 classes.\n",
            "Using 527 files for training.\n",
            "Found 658 files belonging to 3 classes.\n",
            "Using 131 files for validation.\n"
          ]
        }
      ]
    },
    {
      "cell_type": "code",
      "source": [
        "pyplot.imshow(list(ds_train.as_numpy_iterator())[0][0][0]/ 255)"
      ],
      "metadata": {
        "colab": {
          "base_uri": "https://localhost:8080/",
          "height": 286
        },
        "id": "RKxLtZ5hqdn5",
        "outputId": "5297756d-6e87-4d37-f632-aa299357a6a5"
      },
      "execution_count": null,
      "outputs": [
        {
          "output_type": "execute_result",
          "data": {
            "text/plain": [
              "<matplotlib.image.AxesImage at 0x7f55835b4fd0>"
            ]
          },
          "metadata": {},
          "execution_count": 65
        },
        {
          "output_type": "display_data",
          "data": {
            "text/plain": [
              "<Figure size 432x288 with 1 Axes>"
            ],
            "image/png": "[encoded data removed]"
          },
          "metadata": {
            "needs_background": "light"
          }
        }
      ]
    },
    {
      "cell_type": "code",
      "source": [
        "len(ds_train), len(ds_test)"
      ],
      "metadata": {
        "colab": {
          "base_uri": "https://localhost:8080/"
        },
        "id": "hVb-kUvUqyAJ",
        "outputId": "84922ae9-fbdb-4f7f-fdaa-2734cd38449c"
      },
      "execution_count": null,
      "outputs": [
        {
          "output_type": "execute_result",
          "data": {
            "text/plain": [
              "(17, 5)"
            ]
          },
          "metadata": {},
          "execution_count": 66
        }
      ]
    },
    {
      "cell_type": "code",
      "source": [
        "base_model = tf.keras.applications.resnet50.ResNet50(weights='/content/drive/MyDrive/thermal images UL/RESNET50/resnet50_weights_tf_dim_ordering_tf_kernels_notop.h5',input_shape=(224, 224, 3), pooling='max', include_top = False)"
      ],
      "metadata": {
        "id": "I5jIOZW1q1oX"
      },
      "execution_count": null,
      "outputs": []
    },
    {
      "cell_type": "code",
      "source": [
        "inputs = tf.keras.Input(shape=(224, 224, 3,))\n",
        "x = base_model(inputs)\n",
        "x = tf.keras.layers.Flatten()(x)\n",
        "x = tf.keras.layers.Dense(units=200, activation=\"relu\")(x)\n",
        "x = tf.keras.layers.Dropout(0.5)(x)\n",
        "output = tf.keras.layers.Dense(units=6, activation=\"softmax\")(x)\n",
        "model = tf.keras.Model(inputs=[inputs], outputs=[output])"
      ],
      "metadata": {
        "id": "E5mXKW0byULs"
      },
      "execution_count": null,
      "outputs": []
    },
    {
      "cell_type": "code",
      "source": [
        "model.layers"
      ],
      "metadata": {
        "colab": {
          "base_uri": "https://localhost:8080/"
        },
        "id": "rDgOBidcygv5",
        "outputId": "8be3ee62-9b34-43ff-b9e8-d4851915225f"
      },
      "execution_count": null,
      "outputs": [
        {
          "output_type": "execute_result",
          "data": {
            "text/plain": [
              "[<keras.engine.input_layer.InputLayer at 0x7f5583d91550>,\n",
              " <keras.engine.functional.Functional at 0x7f55821fb590>,\n",
              " <keras.layers.reshaping.flatten.Flatten at 0x7f5583d97990>,\n",
              " <keras.layers.core.dense.Dense at 0x7f55821e97d0>,\n",
              " <keras.layers.regularization.dropout.Dropout at 0x7f5582565f90>,\n",
              " <keras.layers.core.dense.Dense at 0x7f5582161f50>]"
            ]
          },
          "metadata": {},
          "execution_count": 69
        }
      ]
    },
    {
      "cell_type": "code",
      "source": [
        "model.layers[1].trainable = False"
      ],
      "metadata": {
        "id": "j-wDnVOIykfc"
      },
      "execution_count": null,
      "outputs": []
    },
    {
      "cell_type": "code",
      "source": [
        "model.compile(optimizer=\"Adam\", loss=\"categorical_crossentropy\", metrics=[\"acc\"])"
      ],
      "metadata": {
        "id": "kjOEfauUym_a"
      },
      "execution_count": null,
      "outputs": []
    },
    {
      "cell_type": "code",
      "source": [
        "model.summary()"
      ],
      "metadata": {
        "colab": {
          "base_uri": "https://localhost:8080/"
        },
        "id": "NUZfYVUHyo9b",
        "outputId": "b1957c20-6d6b-4bec-c243-dfdb982aa0ef"
      },
      "execution_count": null,
      "outputs": [
        {
          "output_type": "stream",
          "name": "stdout",
          "text": [
            "Model: \"model\"\n",
            "_________________________________________________________________\n",
            " Layer (type)                Output Shape              Param #   \n",
            "=================================================================\n",
            " input_3 (InputLayer)        [(None, 224, 224, 3)]     0         \n",
            "                                                                 \n",
            " resnet50 (Functional)       (None, 2048)              23587712  \n",
            "                                                                 \n",
            " flatten (Flatten)           (None, 2048)              0         \n",
            "                                                                 \n",
            " dense (Dense)               (None, 200)               409800    \n",
            "                                                                 \n",
            " dropout (Dropout)           (None, 200)               0         \n",
            "                                                                 \n",
            " dense_1 (Dense)             (None, 6)                 1206      \n",
            "                                                                 \n",
            "=================================================================\n",
            "Total params: 23,998,718\n",
            "Trainable params: 411,006\n",
            "Non-trainable params: 23,587,712\n",
            "_________________________________________________________________\n"
          ]
        }
      ]
    },
    {
      "cell_type": "code",
      "source": [
        "model.fit(ds_train, validation_data=ds_test, epochs = 15)"
      ],
      "metadata": {
        "colab": {
          "base_uri": "https://localhost:8080/",
          "height": 935
        },
        "id": "qKJiWFePyuQx",
        "outputId": "ca383040-7a75-45f5-a266-e678980d2136"
      },
      "execution_count": null,
      "outputs": [
        {
          "output_type": "stream",
          "name": "stdout",
          "text": [
            "Epoch 1/15\n"
          ]
        },
        {
          "output_type": "error",
          "ename": "ValueError",
          "evalue": "ignored",
          "traceback": [
            "\u001b[0;31m---------------------------------------------------------------------------\u001b[0m",
            "\u001b[0;31mValueError\u001b[0m                                Traceback (most recent call last)",
            "\u001b[0;32m<ipython-input-86-68db9c9df97a>\u001b[0m in \u001b[0;36m<module>\u001b[0;34m\u001b[0m\n\u001b[0;32m----> 1\u001b[0;31m \u001b[0mmodel\u001b[0m\u001b[0;34m.\u001b[0m\u001b[0mfit\u001b[0m\u001b[0;34m(\u001b[0m\u001b[0mds_train\u001b[0m\u001b[0;34m,\u001b[0m \u001b[0mvalidation_data\u001b[0m\u001b[0;34m=\u001b[0m\u001b[0mds_test\u001b[0m\u001b[0;34m,\u001b[0m \u001b[0mepochs\u001b[0m \u001b[0;34m=\u001b[0m \u001b[0;36m15\u001b[0m\u001b[0;34m)\u001b[0m\u001b[0;34m\u001b[0m\u001b[0;34m\u001b[0m\u001b[0m\n\u001b[0m",
            "\u001b[0;32m/usr/local/lib/python3.7/dist-packages/keras/utils/traceback_utils.py\u001b[0m in \u001b[0;36merror_handler\u001b[0;34m(*args, **kwargs)\u001b[0m\n\u001b[1;32m     65\u001b[0m     \u001b[0;32mexcept\u001b[0m \u001b[0mException\u001b[0m \u001b[0;32mas\u001b[0m \u001b[0me\u001b[0m\u001b[0;34m:\u001b[0m  \u001b[0;31m# pylint: disable=broad-except\u001b[0m\u001b[0;34m\u001b[0m\u001b[0;34m\u001b[0m\u001b[0m\n\u001b[1;32m     66\u001b[0m       \u001b[0mfiltered_tb\u001b[0m \u001b[0;34m=\u001b[0m \u001b[0m_process_traceback_frames\u001b[0m\u001b[0;34m(\u001b[0m\u001b[0me\u001b[0m\u001b[0;34m.\u001b[0m\u001b[0m__traceback__\u001b[0m\u001b[0;34m)\u001b[0m\u001b[0;34m\u001b[0m\u001b[0;34m\u001b[0m\u001b[0m\n\u001b[0;32m---> 67\u001b[0;31m       \u001b[0;32mraise\u001b[0m \u001b[0me\u001b[0m\u001b[0;34m.\u001b[0m\u001b[0mwith_traceback\u001b[0m\u001b[0;34m(\u001b[0m\u001b[0mfiltered_tb\u001b[0m\u001b[0;34m)\u001b[0m \u001b[0;32mfrom\u001b[0m \u001b[0;32mNone\u001b[0m\u001b[0;34m\u001b[0m\u001b[0;34m\u001b[0m\u001b[0m\n\u001b[0m\u001b[1;32m     68\u001b[0m     \u001b[0;32mfinally\u001b[0m\u001b[0;34m:\u001b[0m\u001b[0;34m\u001b[0m\u001b[0;34m\u001b[0m\u001b[0m\n\u001b[1;32m     69\u001b[0m       \u001b[0;32mdel\u001b[0m \u001b[0mfiltered_tb\u001b[0m\u001b[0;34m\u001b[0m\u001b[0;34m\u001b[0m\u001b[0m\n",
            "\u001b[0;32m/usr/local/lib/python3.7/dist-packages/keras/engine/training.py\u001b[0m in \u001b[0;36mtf__train_function\u001b[0;34m(iterator)\u001b[0m\n\u001b[1;32m     13\u001b[0m                 \u001b[0;32mtry\u001b[0m\u001b[0;34m:\u001b[0m\u001b[0;34m\u001b[0m\u001b[0;34m\u001b[0m\u001b[0m\n\u001b[1;32m     14\u001b[0m                     \u001b[0mdo_return\u001b[0m \u001b[0;34m=\u001b[0m \u001b[0;32mTrue\u001b[0m\u001b[0;34m\u001b[0m\u001b[0;34m\u001b[0m\u001b[0m\n\u001b[0;32m---> 15\u001b[0;31m                     \u001b[0mretval_\u001b[0m \u001b[0;34m=\u001b[0m \u001b[0mag__\u001b[0m\u001b[0;34m.\u001b[0m\u001b[0mconverted_call\u001b[0m\u001b[0;34m(\u001b[0m\u001b[0mag__\u001b[0m\u001b[0;34m.\u001b[0m\u001b[0mld\u001b[0m\u001b[0;34m(\u001b[0m\u001b[0mstep_function\u001b[0m\u001b[0;34m)\u001b[0m\u001b[0;34m,\u001b[0m \u001b[0;34m(\u001b[0m\u001b[0mag__\u001b[0m\u001b[0;34m.\u001b[0m\u001b[0mld\u001b[0m\u001b[0;34m(\u001b[0m\u001b[0mself\u001b[0m\u001b[0;34m)\u001b[0m\u001b[0;34m,\u001b[0m \u001b[0mag__\u001b[0m\u001b[0;34m.\u001b[0m\u001b[0mld\u001b[0m\u001b[0;34m(\u001b[0m\u001b[0miterator\u001b[0m\u001b[0;34m)\u001b[0m\u001b[0;34m)\u001b[0m\u001b[0;34m,\u001b[0m \u001b[0;32mNone\u001b[0m\u001b[0;34m,\u001b[0m \u001b[0mfscope\u001b[0m\u001b[0;34m)\u001b[0m\u001b[0;34m\u001b[0m\u001b[0;34m\u001b[0m\u001b[0m\n\u001b[0m\u001b[1;32m     16\u001b[0m                 \u001b[0;32mexcept\u001b[0m\u001b[0;34m:\u001b[0m\u001b[0;34m\u001b[0m\u001b[0;34m\u001b[0m\u001b[0m\n\u001b[1;32m     17\u001b[0m                     \u001b[0mdo_return\u001b[0m \u001b[0;34m=\u001b[0m \u001b[0;32mFalse\u001b[0m\u001b[0;34m\u001b[0m\u001b[0;34m\u001b[0m\u001b[0m\n",
            "\u001b[0;31mValueError\u001b[0m: in user code:\n\n    File \"/usr/local/lib/python3.7/dist-packages/keras/engine/training.py\", line 1051, in train_function  *\n        return step_function(self, iterator)\n    File \"/usr/local/lib/python3.7/dist-packages/keras/engine/training.py\", line 1040, in step_function  **\n        outputs = model.distribute_strategy.run(run_step, args=(data,))\n    File \"/usr/local/lib/python3.7/dist-packages/keras/engine/training.py\", line 1030, in run_step  **\n        outputs = model.train_step(data)\n    File \"/usr/local/lib/python3.7/dist-packages/keras/engine/training.py\", line 890, in train_step\n        loss = self.compute_loss(x, y, y_pred, sample_weight)\n    File \"/usr/local/lib/python3.7/dist-packages/keras/engine/training.py\", line 949, in compute_loss\n        y, y_pred, sample_weight, regularization_losses=self.losses)\n    File \"/usr/local/lib/python3.7/dist-packages/keras/engine/compile_utils.py\", line 201, in __call__\n        loss_value = loss_obj(y_t, y_p, sample_weight=sw)\n    File \"/usr/local/lib/python3.7/dist-packages/keras/losses.py\", line 139, in __call__\n        losses = call_fn(y_true, y_pred)\n    File \"/usr/local/lib/python3.7/dist-packages/keras/losses.py\", line 243, in call  **\n        return ag_fn(y_true, y_pred, **self._fn_kwargs)\n    File \"/usr/local/lib/python3.7/dist-packages/keras/losses.py\", line 1788, in categorical_crossentropy\n        y_true, y_pred, from_logits=from_logits, axis=axis)\n    File \"/usr/local/lib/python3.7/dist-packages/keras/backend.py\", line 5119, in categorical_crossentropy\n        target.shape.assert_is_compatible_with(output.shape)\n\n    ValueError: Shapes (None, 3) and (None, 6) are incompatible\n"
          ]
        }
      ]
    },
    {
      "cell_type": "code",
      "source": [
        "model.evaluate(ds_test, batch_size=32)"
      ],
      "metadata": {
        "colab": {
          "base_uri": "https://localhost:8080/",
          "height": 918
        },
        "id": "A-vbAHLd1GLZ",
        "outputId": "620d38da-1659-4c73-b503-556dc7b624d9"
      },
      "execution_count": null,
      "outputs": [
        {
          "output_type": "error",
          "ename": "ValueError",
          "evalue": "ignored",
          "traceback": [
            "\u001b[0;31m---------------------------------------------------------------------------\u001b[0m",
            "\u001b[0;31mValueError\u001b[0m                                Traceback (most recent call last)",
            "\u001b[0;32m<ipython-input-88-fbc70ac4cd1a>\u001b[0m in \u001b[0;36m<module>\u001b[0;34m\u001b[0m\n\u001b[0;32m----> 1\u001b[0;31m \u001b[0mmodel\u001b[0m\u001b[0;34m.\u001b[0m\u001b[0mevaluate\u001b[0m\u001b[0;34m(\u001b[0m\u001b[0mds_test\u001b[0m\u001b[0;34m,\u001b[0m \u001b[0mbatch_size\u001b[0m\u001b[0;34m=\u001b[0m\u001b[0;36m32\u001b[0m\u001b[0;34m)\u001b[0m\u001b[0;34m\u001b[0m\u001b[0;34m\u001b[0m\u001b[0m\n\u001b[0m",
            "\u001b[0;32m/usr/local/lib/python3.7/dist-packages/keras/utils/traceback_utils.py\u001b[0m in \u001b[0;36merror_handler\u001b[0;34m(*args, **kwargs)\u001b[0m\n\u001b[1;32m     65\u001b[0m     \u001b[0;32mexcept\u001b[0m \u001b[0mException\u001b[0m \u001b[0;32mas\u001b[0m \u001b[0me\u001b[0m\u001b[0;34m:\u001b[0m  \u001b[0;31m# pylint: disable=broad-except\u001b[0m\u001b[0;34m\u001b[0m\u001b[0;34m\u001b[0m\u001b[0m\n\u001b[1;32m     66\u001b[0m       \u001b[0mfiltered_tb\u001b[0m \u001b[0;34m=\u001b[0m \u001b[0m_process_traceback_frames\u001b[0m\u001b[0;34m(\u001b[0m\u001b[0me\u001b[0m\u001b[0;34m.\u001b[0m\u001b[0m__traceback__\u001b[0m\u001b[0;34m)\u001b[0m\u001b[0;34m\u001b[0m\u001b[0;34m\u001b[0m\u001b[0m\n\u001b[0;32m---> 67\u001b[0;31m       \u001b[0;32mraise\u001b[0m \u001b[0me\u001b[0m\u001b[0;34m.\u001b[0m\u001b[0mwith_traceback\u001b[0m\u001b[0;34m(\u001b[0m\u001b[0mfiltered_tb\u001b[0m\u001b[0;34m)\u001b[0m \u001b[0;32mfrom\u001b[0m \u001b[0;32mNone\u001b[0m\u001b[0;34m\u001b[0m\u001b[0;34m\u001b[0m\u001b[0m\n\u001b[0m\u001b[1;32m     68\u001b[0m     \u001b[0;32mfinally\u001b[0m\u001b[0;34m:\u001b[0m\u001b[0;34m\u001b[0m\u001b[0;34m\u001b[0m\u001b[0m\n\u001b[1;32m     69\u001b[0m       \u001b[0;32mdel\u001b[0m \u001b[0mfiltered_tb\u001b[0m\u001b[0;34m\u001b[0m\u001b[0;34m\u001b[0m\u001b[0m\n",
            "\u001b[0;32m/usr/local/lib/python3.7/dist-packages/keras/engine/training.py\u001b[0m in \u001b[0;36mtf__test_function\u001b[0;34m(iterator)\u001b[0m\n\u001b[1;32m     13\u001b[0m                 \u001b[0;32mtry\u001b[0m\u001b[0;34m:\u001b[0m\u001b[0;34m\u001b[0m\u001b[0;34m\u001b[0m\u001b[0m\n\u001b[1;32m     14\u001b[0m                     \u001b[0mdo_return\u001b[0m \u001b[0;34m=\u001b[0m \u001b[0;32mTrue\u001b[0m\u001b[0;34m\u001b[0m\u001b[0;34m\u001b[0m\u001b[0m\n\u001b[0;32m---> 15\u001b[0;31m                     \u001b[0mretval_\u001b[0m \u001b[0;34m=\u001b[0m \u001b[0mag__\u001b[0m\u001b[0;34m.\u001b[0m\u001b[0mconverted_call\u001b[0m\u001b[0;34m(\u001b[0m\u001b[0mag__\u001b[0m\u001b[0;34m.\u001b[0m\u001b[0mld\u001b[0m\u001b[0;34m(\u001b[0m\u001b[0mstep_function\u001b[0m\u001b[0;34m)\u001b[0m\u001b[0;34m,\u001b[0m \u001b[0;34m(\u001b[0m\u001b[0mag__\u001b[0m\u001b[0;34m.\u001b[0m\u001b[0mld\u001b[0m\u001b[0;34m(\u001b[0m\u001b[0mself\u001b[0m\u001b[0;34m)\u001b[0m\u001b[0;34m,\u001b[0m \u001b[0mag__\u001b[0m\u001b[0;34m.\u001b[0m\u001b[0mld\u001b[0m\u001b[0;34m(\u001b[0m\u001b[0miterator\u001b[0m\u001b[0;34m)\u001b[0m\u001b[0;34m)\u001b[0m\u001b[0;34m,\u001b[0m \u001b[0;32mNone\u001b[0m\u001b[0;34m,\u001b[0m \u001b[0mfscope\u001b[0m\u001b[0;34m)\u001b[0m\u001b[0;34m\u001b[0m\u001b[0;34m\u001b[0m\u001b[0m\n\u001b[0m\u001b[1;32m     16\u001b[0m                 \u001b[0;32mexcept\u001b[0m\u001b[0;34m:\u001b[0m\u001b[0;34m\u001b[0m\u001b[0;34m\u001b[0m\u001b[0m\n\u001b[1;32m     17\u001b[0m                     \u001b[0mdo_return\u001b[0m \u001b[0;34m=\u001b[0m \u001b[0;32mFalse\u001b[0m\u001b[0;34m\u001b[0m\u001b[0;34m\u001b[0m\u001b[0m\n",
            "\u001b[0;31mValueError\u001b[0m: in user code:\n\n    File \"/usr/local/lib/python3.7/dist-packages/keras/engine/training.py\", line 1557, in test_function  *\n        return step_function(self, iterator)\n    File \"/usr/local/lib/python3.7/dist-packages/keras/engine/training.py\", line 1546, in step_function  **\n        outputs = model.distribute_strategy.run(run_step, args=(data,))\n    File \"/usr/local/lib/python3.7/dist-packages/keras/engine/training.py\", line 1535, in run_step  **\n        outputs = model.test_step(data)\n    File \"/usr/local/lib/python3.7/dist-packages/keras/engine/training.py\", line 1501, in test_step\n        self.compute_loss(x, y, y_pred, sample_weight)\n    File \"/usr/local/lib/python3.7/dist-packages/keras/engine/training.py\", line 949, in compute_loss\n        y, y_pred, sample_weight, regularization_losses=self.losses)\n    File \"/usr/local/lib/python3.7/dist-packages/keras/engine/compile_utils.py\", line 201, in __call__\n        loss_value = loss_obj(y_t, y_p, sample_weight=sw)\n    File \"/usr/local/lib/python3.7/dist-packages/keras/losses.py\", line 139, in __call__\n        losses = call_fn(y_true, y_pred)\n    File \"/usr/local/lib/python3.7/dist-packages/keras/losses.py\", line 243, in call  **\n        return ag_fn(y_true, y_pred, **self._fn_kwargs)\n    File \"/usr/local/lib/python3.7/dist-packages/keras/losses.py\", line 1788, in categorical_crossentropy\n        y_true, y_pred, from_logits=from_logits, axis=axis)\n    File \"/usr/local/lib/python3.7/dist-packages/keras/backend.py\", line 5119, in categorical_crossentropy\n        target.shape.assert_is_compatible_with(output.shape)\n\n    ValueError: Shapes (None, 3) and (None, 6) are incompatible\n"
          ]
        }
      ]
    },
    {
      "cell_type": "code",
      "source": [
        "model.save('./model')"
      ],
      "metadata": {
        "colab": {
          "base_uri": "https://localhost:8080/"
        },
        "id": "92nnvTLu1JWd",
        "outputId": "b489eddd-8672-445f-f949-10305dd3be12"
      },
      "execution_count": null,
      "outputs": [
        {
          "output_type": "stream",
          "name": "stderr",
          "text": [
            "WARNING:absl:Found untraced functions such as _jit_compiled_convolution_op, _jit_compiled_convolution_op, _jit_compiled_convolution_op, _jit_compiled_convolution_op, _jit_compiled_convolution_op while saving (showing 5 of 53). These functions will not be directly callable after loading.\n"
          ]
        }
      ]
    }
  ]
}
 
